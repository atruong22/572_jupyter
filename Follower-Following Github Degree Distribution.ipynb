{
 "cells": [
  {
   "cell_type": "code",
   "execution_count": 6,
   "id": "16ea116a",
   "metadata": {},
   "outputs": [],
   "source": [
    "# Importing the required libraries\n",
    "\n",
    "import numpy as np\n",
    "import networkx as nx\n",
    "import matplotlib.pyplot as plt\n",
    "import matplotlib as mpl\n",
    "%matplotlib inline"
   ]
  },
  {
   "cell_type": "code",
   "execution_count": 7,
   "id": "bb7ab85c",
   "metadata": {},
   "outputs": [],
   "source": [
    "# change defaults to be less ugly\n",
    "mpl.rc('xtick', labelsize=14, color=\"#222222\") \n",
    "mpl.rc('ytick', labelsize=14, color=\"#222222\") \n",
    "mpl.rc('font', **{'family':'sans-serif','sans-serif':['Arial']})\n",
    "mpl.rc('font', size=16)\n",
    "mpl.rc('xtick.major', size=6, width=1)\n",
    "mpl.rc('xtick.minor', size=3, width=1)\n",
    "mpl.rc('ytick.major', size=6, width=1)\n",
    "mpl.rc('ytick.minor', size=3, width=1)\n",
    "mpl.rc('axes', linewidth=1, edgecolor=\"#222222\", labelcolor=\"#222222\")\n",
    "mpl.rc('text', usetex=False, color=\"#222222\")"
   ]
  },
  {
   "cell_type": "code",
   "execution_count": 20,
   "id": "167b3924",
   "metadata": {},
   "outputs": [],
   "source": [
    "# Function Defintions\n",
    "\n",
    "# Function to plot a degree distribution graph (P(k) vs k graph)\n",
    "def plot_indegree_dist(G):\n",
    "    \n",
    "    degrees = [G.in_degree(n) for n in G.nodes()]\n",
    "    kmin = min(degrees)\n",
    "    #print(\"min in degree: \", kmin)\n",
    "    kmax = max(degrees)\n",
    "    #print(\"max in degree: \", kmax)\n",
    "    if kmin>0:\n",
    "        bin_edges = np.logspace(np.log10(kmin), np.log10(kmax)+1, num=50)\n",
    "    else:\n",
    "        bin_edges = np.logspace(0, np.log10(kmax)+1, num= 50)\n",
    "    density, _ = np.histogram(degrees, bins=bin_edges, density=True)\n",
    "\n",
    "    fig = plt.figure(figsize=(6,4))\n",
    "\n",
    "    log_be = np.log10(bin_edges)\n",
    "    x = 10**((log_be[1:] + log_be[:-1])/2)\n",
    "    plt.loglog(x, density, marker='o', linestyle='none')\n",
    "    plt.xlabel(r\"in degree $k$\", fontsize=16)\n",
    "    plt.ylabel(r\"$P(k)$\", fontsize=16)\n",
    "\n",
    "    ax = plt.gca()\n",
    "    ax.spines['right'].set_visible(False)\n",
    "    ax.spines['top'].set_visible(False)\n",
    "    ax.yaxis.set_ticks_position('left')\n",
    "    ax.xaxis.set_ticks_position('bottom')\n",
    "    "
   ]
  },
  {
   "cell_type": "code",
   "execution_count": 18,
   "id": "0966d855",
   "metadata": {},
   "outputs": [],
   "source": [
    "# Function Defintions\n",
    "\n",
    "# Function to plot a degree distribution graph (P(k) vs k graph)\n",
    "def plot_outdegree_dist(G):\n",
    "    \n",
    "    degrees = [G.out_degree(n) for n in G.nodes()]\n",
    "    kmin = min(degrees)\n",
    "    #print(\"min out degree: \", kmin)\n",
    "    kmax = max(degrees)\n",
    "    #print(\"max out degree: \", kmax)\n",
    "    if kmin>0:\n",
    "        bin_edges = np.logspace(np.log10(kmin), np.log10(kmax)+1, num=50)\n",
    "    else:\n",
    "        bin_edges = np.logspace(0, np.log10(kmax)+1, num=50)\n",
    "    density, _ = np.histogram(degrees, bins=bin_edges, density=True)\n",
    "\n",
    "    fig = plt.figure(figsize=(6,4))\n",
    "\n",
    "    log_be = np.log10(bin_edges)\n",
    "    x = 10**((log_be[1:] + log_be[:-1])/2)\n",
    "    plt.loglog(x, density, marker='o', linestyle='none')\n",
    "    plt.xlabel(r\"out degree $k$\", fontsize=16)\n",
    "    plt.ylabel(r\"$P(k)$\", fontsize=16)\n",
    "\n",
    "    ax = plt.gca()\n",
    "    ax.spines['right'].set_visible(False)\n",
    "    ax.spines['top'].set_visible(False)\n",
    "    ax.yaxis.set_ticks_position('left')\n",
    "    ax.xaxis.set_ticks_position('bottom')"
   ]
  },
  {
   "cell_type": "code",
   "execution_count": 19,
   "id": "094acbec",
   "metadata": {},
   "outputs": [],
   "source": [
    "# Function Defintions\n",
    "\n",
    "# Function to plot a degree distribution graph (P(k) vs k graph)\n",
    "def plot_degree_dist(G):\n",
    "    \n",
    "    degrees = [G.degree(n) for n in G.nodes()]\n",
    "    kmin = min(degrees)\n",
    "    #print(\"min out degree: \", kmin)\n",
    "    kmax = max(degrees)\n",
    "    #print(\"max out degree: \", kmax)\n",
    "    if kmin>0:\n",
    "        bin_edges = np.logspace(np.log10(kmin), np.log10(kmax)+1, num=50)\n",
    "    else:\n",
    "        bin_edges = np.logspace(0, np.log10(kmax)+1, num=50)\n",
    "    density, _ = np.histogram(degrees, bins=bin_edges, density=True)\n",
    "\n",
    "    fig = plt.figure(figsize=(6,4))\n",
    "\n",
    "    log_be = np.log10(bin_edges)\n",
    "    x = 10**((log_be[1:] + log_be[:-1])/2)\n",
    "    plt.loglog(x, density, marker='o', linestyle='none')\n",
    "    plt.xlabel(r\"degree $k$\", fontsize=16)\n",
    "    plt.ylabel(r\"$P(k)$\", fontsize=16)\n",
    "\n",
    "    ax = plt.gca()\n",
    "    ax.spines['right'].set_visible(False)\n",
    "    ax.spines['top'].set_visible(False)\n",
    "    ax.yaxis.set_ticks_position('left')\n",
    "    ax.xaxis.set_ticks_position('bottom')"
   ]
  },
  {
   "cell_type": "code",
   "execution_count": 21,
   "id": "b0f91444",
   "metadata": {},
   "outputs": [
    {
     "data": {
      "image/png": "[encoded data removed]",
      "text/plain": [
       "<Figure size 432x288 with 1 Axes>"
      ]
     },
     "metadata": {
      "needs_background": "light"
     },
     "output_type": "display_data"
    },
    {
     "data": {
      "image/png": "[encoded data removed]",
      "text/plain": [
       "<Figure size 432x288 with 1 Axes>"
      ]
     },
     "metadata": {
      "needs_background": "light"
     },
     "output_type": "display_data"
    },
    {
     "data": {
      "image/png": "[encoded data removed]",
      "text/plain": [
       "<Figure size 432x288 with 1 Axes>"
      ]
     },
     "metadata": {
      "needs_background": "light"
     },
     "output_type": "display_data"
    }
   ],
   "source": [
    "G = nx.read_edgelist('./edges.csv',\n",
    "                     create_using=nx.DiGraph())\n",
    "plot_indegree_dist(G)\n",
    "plot_outdegree_dist(G)\n",
    "plot_degree_dist(G)\n",
    "\n"
   ]
  },
  {
   "cell_type": "code",
   "execution_count": 69,
   "id": "49184620",
   "metadata": {},
   "outputs": [],
   "source": [
    "# def LL_indegree_dist(G):\n",
    "#     degrees = [G.in_degree(n) for n in G.nodes()]\n",
    "#     kmin = min(degrees)\n",
    "#     kmax = max(degrees)\n",
    "    \n",
    "#     # Get 20 logarithmically spaced bins between kmin and kmax\n",
    "#     bin_edges = np.linspace(kmin, kmax, num=20)\n",
    "    \n",
    "#     # histogram the data into these bins\n",
    "#     density, _ = np.histogram(degrees, bins=bin_edges, density=True)\n",
    "#     fig = plt.figure(figsize=(6,4))\n",
    "\n",
    "#     # \"x\" should be midpoint (IN LOG SPACE) of each bin\n",
    "#     log_be = np.log10(bin_edges)\n",
    "#     x = 10**((log_be[1:] + log_be[:-1])/2)\n",
    "\n",
    "#     plt.plot(x, density, marker='o', linestyle='none')\n",
    "#     plt.xlabel(r\"in degree $k$\", fontsize=16)\n",
    "#     plt.ylabel(r\"$P(k)$\", fontsize=16)\n",
    "\n",
    "#     # remove right and top boundaries because they're ugly\n",
    "#     ax = plt.gca()\n",
    "#     ax.spines['right'].set_visible(False)\n",
    "#     ax.spines['top'].set_visible(False)\n",
    "#     ax.yaxis.set_ticks_position('left')\n",
    "#     ax.xaxis.set_ticks_position('bottom')\n",
    "\n",
    "#     # Show the plot\n",
    "#     plt.show()"
   ]
  },
  {
   "cell_type": "code",
   "execution_count": 70,
   "id": "a664ad3a",
   "metadata": {},
   "outputs": [],
   "source": [
    "# def LL_outdegree_dist(G):\n",
    "#     degrees = [G.out_degree(n) for n in G.nodes()]\n",
    "#     kmin = min(degrees)\n",
    "#     kmax = max(degrees)\n",
    "    \n",
    "#     # Get 20 logarithmically spaced bins between kmin and kmax\n",
    "#     bin_edges = np.linspace(kmin, kmax, num=20)\n",
    "    \n",
    "#     # histogram the data into these bins\n",
    "#     density, _ = np.histogram(degrees, bins=bin_edges, density=True)\n",
    "#     fig = plt.figure(figsize=(6,4))\n",
    "\n",
    "#     # \"x\" should be midpoint (IN LOG SPACE) of each bin\n",
    "#     log_be = np.log10(bin_edges)\n",
    "#     x = 10**((log_be[1:] + log_be[:-1])/2)\n",
    "\n",
    "#     plt.plot(x, density, marker='o', linestyle='none')\n",
    "#     plt.xlabel(r\"out degree $k$\", fontsize=16)\n",
    "#     plt.ylabel(r\"$P(k)$\", fontsize=16)\n",
    "\n",
    "#     # remove right and top boundaries because they're ugly\n",
    "#     ax = plt.gca()\n",
    "#     ax.spines['right'].set_visible(False)\n",
    "#     ax.spines['top'].set_visible(False)\n",
    "#     ax.yaxis.set_ticks_position('left')\n",
    "#     ax.xaxis.set_ticks_position('bottom')\n",
    "\n",
    "#     # Show the plot\n",
    "#     plt.show()"
   ]
  },
  {
   "cell_type": "code",
   "execution_count": 1,
   "id": "342a3c8a",
   "metadata": {},
   "outputs": [],
   "source": [
    "# LL_indegree_dist(G)\n",
    "# LL_outdegree_dist(G)"
   ]
  },
  {
   "cell_type": "code",
   "execution_count": null,
   "id": "300a5d3a",
   "metadata": {},
   "outputs": [],
   "source": []
  }
 ],
 "metadata": {
  "kernelspec": {
   "display_name": "Python 3 (ipykernel)",
   "language": "python",
   "name": "python3"
  },
  "language_info": {
   "codemirror_mode": {
    "name": "ipython",
    "version": 3
   },
   "file_extension": ".py",
   "mimetype": "text/x-python",
   "name": "python",
   "nbconvert_exporter": "python",
   "pygments_lexer": "ipython3",
   "version": "3.9.12"
  }
 },
 "nbformat": 4,
 "nbformat_minor": 5
}
